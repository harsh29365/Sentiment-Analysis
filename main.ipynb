{
  "cells": [
    {
      "cell_type": "code",
      "execution_count": null,
      "metadata": {
        "id": "xrKPcUVws12J"
      },
      "outputs": [],
      "source": [
        "import numpy\n",
        "import pandas\n",
        "import seaborn\n",
        "import tensorflow\n",
        "from matplotlib import pyplot\n",
        "from sklearn.model_selection import train_test_split\n",
        "from sentence_transformers import SentenceTransformer\n",
        "from sklearn.metrics import f1_score, confusion_matrix"
      ]
    },
    {
      "cell_type": "markdown",
      "source": [
        "\"steam.csv\" is the preprocessed data. \"prepare.py\" on the original data must be executed before this step."
      ],
      "metadata": {
        "id": "qYWPLNgNZWps"
      }
    },
    {
      "cell_type": "code",
      "source": [
        "data = pandas.read_csv(\"steam.csv\")"
      ],
      "metadata": {
        "id": "9ItZIx1GC458"
      },
      "execution_count": null,
      "outputs": []
    },
    {
      "cell_type": "code",
      "source": [
        "model = SentenceTransformer(\"sentence-transformers/all-mpnet-base-v2\")"
      ],
      "metadata": {
        "id": "_1J0JCXVdfEm"
      },
      "execution_count": null,
      "outputs": []
    },
    {
      "cell_type": "markdown",
      "source": [
        "Convert the reviews to vectors that have their meanings encoded in them."
      ],
      "metadata": {
        "id": "WUaFbGlIZurW"
      }
    },
    {
      "cell_type": "code",
      "source": [
        "embeddings = model.encode(data[\"review_text\"], show_progress_bar=True)"
      ],
      "metadata": {
        "colab": {
          "base_uri": "https://localhost:8080/",
          "height": 49,
          "referenced_widgets": [
            "d1625b3a39cc4c5c933a16f6b7a265b7",
            "6ce89367ce394143889ab375f26838da",
            "6fae1f8aca59498aac894fc85cbad539",
            "a79706372c274d639e0db38406f18736",
            "7b55f15fda5146efbe2273792cac0ddf",
            "3b5c7aced96248b3a3cb66d11cc48988",
            "2f5bf3c6e81840589b489fcc969f65f3",
            "a59f1ff5d9bd49e08f194240bf466d15",
            "b15cb871a0ee49259514918d40c95f2b",
            "98cd501fae2d4532ba22979ddd46136e",
            "5a809f912fd64fae9789e1232cea8f62"
          ]
        },
        "id": "BM6EgtiLOaBk",
        "outputId": "b58aafbb-62d5-42ab-d447-68b79a36ff97"
      },
      "execution_count": null,
      "outputs": [
        {
          "output_type": "display_data",
          "data": {
            "text/plain": [
              "Batches:   0%|          | 0/625 [00:00<?, ?it/s]"
            ],
            "application/vnd.jupyter.widget-view+json": {
              "version_major": 2,
              "version_minor": 0,
              "model_id": "d1625b3a39cc4c5c933a16f6b7a265b7"
            }
          },
          "metadata": {}
        }
      ]
    },
    {
      "cell_type": "markdown",
      "source": [
        "Pre-generated embeddings can be loaded directly. Executing the above step may take a long time."
      ],
      "metadata": {
        "id": "_Vr8xPDdZ2Sh"
      }
    },
    {
      "cell_type": "code",
      "source": [
        "#embeddings = numpy.load(\"embeddings.npy\")"
      ],
      "metadata": {
        "id": "l1tE3q_eaIIU"
      },
      "execution_count": null,
      "outputs": []
    },
    {
      "cell_type": "code",
      "execution_count": null,
      "metadata": {
        "id": "ftre5jfDDfdB"
      },
      "outputs": [],
      "source": [
        "review_scores = data[\"review_score\"].values\n",
        "\n",
        "x_train, x_test, y_train, y_test = train_test_split(\n",
        "    embeddings,\n",
        "    review_scores,\n",
        "    test_size=0.2,\n",
        "    random_state=32,\n",
        "    stratify=review_scores,\n",
        ")\n",
        "\n",
        "x_train = numpy.array(x_train)\n",
        "x_test = numpy.array(x_test)"
      ]
    },
    {
      "cell_type": "code",
      "execution_count": null,
      "metadata": {
        "id": "0d9730b2"
      },
      "outputs": [],
      "source": [
        "model = tensorflow.keras.Sequential([\n",
        "    tensorflow.keras.layers.Input(shape=(x_train.shape[1],)),\n",
        "    tensorflow.keras.layers.Dense(128, activation=\"relu\"),\n",
        "    tensorflow.keras.layers.Dense(64, activation=\"relu\"),\n",
        "    tensorflow.keras.layers.Dense(1, activation=\"sigmoid\")\n",
        "])"
      ]
    },
    {
      "cell_type": "code",
      "source": [
        "tensorflow.keras.utils.plot_model(model, show_shapes=True)"
      ],
      "metadata": {
        "id": "Vh0WOhULbHy_",
        "colab": {
          "base_uri": "https://localhost:8080/",
          "height": 422
        },
        "outputId": "8debda78-81e5-49ec-8abe-3f29e06e5fcd"
      },
      "execution_count": null,
      "outputs": [
        {
          "output_type": "execute_result",
          "data": {
            "image/png": "[encoded data removed]",
            "text/plain": [
              "<IPython.core.display.Image object>"
            ]
          },
          "metadata": {},
          "execution_count": 8
        }
      ]
    },
    {
      "cell_type": "code",
      "execution_count": null,
      "metadata": {
        "id": "lpnmyjUsC50p"
      },
      "outputs": [],
      "source": [
        "model.compile(\n",
        "    optimizer=\"adam\",\n",
        "    metrics=[\"accuracy\"],\n",
        "    loss=\"binary_crossentropy\"\n",
        ")"
      ]
    },
    {
      "cell_type": "code",
      "execution_count": null,
      "metadata": {
        "id": "ec4eb9a1",
        "colab": {
          "base_uri": "https://localhost:8080/"
        },
        "outputId": "ab36eb88-b2fb-4468-e359-46a3359d0c95"
      },
      "outputs": [
        {
          "output_type": "stream",
          "name": "stdout",
          "text": [
            "Epoch 1/1000\n",
            "250/250 [==============================] - 4s 5ms/step - loss: 0.3822 - accuracy: 0.8381 - val_loss: 0.3401 - val_accuracy: 0.8547\n",
            "Epoch 2/1000\n",
            "250/250 [==============================] - 1s 3ms/step - loss: 0.3207 - accuracy: 0.8606 - val_loss: 0.3305 - val_accuracy: 0.8550\n",
            "Epoch 3/1000\n",
            "250/250 [==============================] - 1s 3ms/step - loss: 0.3022 - accuracy: 0.8736 - val_loss: 0.3175 - val_accuracy: 0.8640\n",
            "Epoch 4/1000\n",
            "250/250 [==============================] - 1s 3ms/step - loss: 0.2791 - accuracy: 0.8846 - val_loss: 0.3153 - val_accuracy: 0.8650\n",
            "Epoch 5/1000\n",
            "250/250 [==============================] - 1s 3ms/step - loss: 0.2602 - accuracy: 0.8968 - val_loss: 0.3222 - val_accuracy: 0.8655\n",
            "Epoch 6/1000\n",
            "250/250 [==============================] - 1s 3ms/step - loss: 0.2340 - accuracy: 0.9072 - val_loss: 0.3502 - val_accuracy: 0.8495\n",
            "Epoch 7/1000\n",
            "250/250 [==============================] - 1s 3ms/step - loss: 0.2075 - accuracy: 0.9189 - val_loss: 0.3359 - val_accuracy: 0.8643\n",
            "Epoch 8/1000\n",
            "250/250 [==============================] - 1s 3ms/step - loss: 0.1797 - accuracy: 0.9337 - val_loss: 0.3618 - val_accuracy: 0.8577\n",
            "Epoch 9/1000\n",
            "250/250 [==============================] - 1s 3ms/step - loss: 0.1536 - accuracy: 0.9440 - val_loss: 0.3757 - val_accuracy: 0.8547\n"
          ]
        }
      ],
      "source": [
        "early_stopping = tensorflow.keras.callbacks.EarlyStopping(\n",
        "    patience=5,\n",
        "    monitor=\"val_loss\",\n",
        "    restore_best_weights=True\n",
        ")\n",
        "\n",
        "history = model.fit(\n",
        "    x_train,\n",
        "    y_train,\n",
        "    epochs=1000,\n",
        "    batch_size=64,\n",
        "    callbacks=[early_stopping],\n",
        "    validation_data=(x_test, y_test)\n",
        ")"
      ]
    },
    {
      "cell_type": "code",
      "source": [
        "pyplot.figure(figsize=(10, 6))\n",
        "pyplot.plot(history.history[\"accuracy\"], label=\"Training Accuracy\")\n",
        "pyplot.plot(history.history[\"val_accuracy\"], label=\"Validation Accuracy\")\n",
        "pyplot.title(\"Training and Validation Accuracy\")\n",
        "pyplot.xlabel(\"Epoch\")\n",
        "pyplot.ylabel(\"Accuracy\")\n",
        "pyplot.legend()\n",
        "pyplot.grid(True)\n",
        "pyplot.show()"
      ],
      "metadata": {
        "id": "DF7d2vSfbTgp",
        "colab": {
          "base_uri": "https://localhost:8080/",
          "height": 564
        },
        "outputId": "c61b8ca9-4b20-4f81-ddfd-2ef72e810f65"
      },
      "execution_count": null,
      "outputs": [
        {
          "output_type": "display_data",
          "data": {
            "text/plain": [
              "<Figure size 1000x600 with 1 Axes>"
            ],
            "image/png": "[encoded data removed]"
          },
          "metadata": {}
        }
      ]
    },
    {
      "cell_type": "code",
      "source": [
        "model.save(\"model.keras\")"
      ],
      "metadata": {
        "id": "Q6vfs1N7aiYF"
      },
      "execution_count": null,
      "outputs": []
    },
    {
      "cell_type": "code",
      "execution_count": null,
      "metadata": {
        "id": "FUgSgm3nDy-d",
        "colab": {
          "base_uri": "https://localhost:8080/"
        },
        "outputId": "134a1fba-45f0-4ee2-9235-23396caa2ed1"
      },
      "outputs": [
        {
          "output_type": "stream",
          "name": "stdout",
          "text": [
            "125/125 [==============================] - 0s 2ms/step - loss: 0.3153 - accuracy: 0.8650\n",
            "125/125 [==============================] - 0s 1ms/step\n",
            "Test Loss: 0.315\n",
            "Test Accuracy: 0.865\n",
            "Test F1 Score: 0.862\n"
          ]
        }
      ],
      "source": [
        "loss, accuracy = model.evaluate(x_test, y_test)\n",
        "\n",
        "predictions = model.predict(x_test)\n",
        "predicted_classes = (predictions > 0.5).astype(\"int32\")\n",
        "\n",
        "print(f\"Test Loss: {loss:.3f}\")\n",
        "print(f\"Test Accuracy: {accuracy:.3f}\")\n",
        "print(f\"Test F1 Score: {f1_score(y_test, predicted_classes):.3f}\")"
      ]
    },
    {
      "cell_type": "markdown",
      "source": [
        "1 means positive sentiment and 0 means negative sentiment."
      ],
      "metadata": {
        "id": "AKJTNbQaaImu"
      }
    },
    {
      "cell_type": "code",
      "metadata": {
        "id": "54bb428e",
        "colab": {
          "base_uri": "https://localhost:8080/",
          "height": 472
        },
        "outputId": "bc3828c0-6536-4533-c8f9-64ba80224730"
      },
      "source": [
        "seaborn.heatmap(confusion_matrix(y_test, predicted_classes), annot=True, fmt=\"d\")\n",
        "pyplot.xlabel(\"Predicted Label\")\n",
        "pyplot.ylabel(\"Actual Label\")\n",
        "pyplot.title(\"Confusion Matrix\")\n",
        "pyplot.show()"
      ],
      "execution_count": null,
      "outputs": [
        {
          "output_type": "display_data",
          "data": {
            "text/plain": [
              "<Figure size 640x480 with 2 Axes>"
            ],
            "image/png": "[encoded data removed]"
          },
          "metadata": {}
        }
      ]
    },
    {
      "cell_type": "code",
      "metadata": {
        "id": "69827b29",
        "colab": {
          "base_uri": "https://localhost:8080/"
        },
        "outputId": "1586e874-0590-48d2-a091-480b58f25f0e"
      },
      "source": [
        "misclassified_indices = numpy.where(predicted_classes.flatten() != y_test)[0]\n",
        "random_misclassified_indices = numpy.random.choice(misclassified_indices, size=10)\n",
        "\n",
        "for i in random_misclassified_indices:\n",
        "    review_text = data.iloc[i][\"review_text\"]\n",
        "\n",
        "    actual_score = y_test[i]\n",
        "    predicted_score = predicted_classes[i][0]\n",
        "\n",
        "    print(f\"Review: {review_text}\")\n",
        "    print(f\"Actual Score: {actual_score}, Predicted Score: {predicted_score}\" + \"\\n\")"
      ],
      "execution_count": null,
      "outputs": [
        {
          "output_type": "stream",
          "name": "stdout",
          "text": [
            "Review: Cheaters can get you banned. No appeals. Buy more shark cards.\n",
            "Actual Score: 1, Predicted Score: 0\n",
            "\n",
            "Review: The game is improvement over Rome 2, yet overall is still a 'Below average' game.  On good side:UI is improved, diplomacy is improved, family tree is back. And no gamebreaking bugs encountered(like this should be even a feature)  On bad side: It still a rome 2, with clunky 1vs1 only fighting animations. While UI is improved it still bad, espicially combat UI. Instead of throwing torches, gates can be broken with melee weapon, brilliant. Repetative battles over the same cities. Absolutelly terrible unit roster(espicially barbarian). Campaign is suffering from poor game design decisions too. Imperium rising from research, Atilla who need's to be killed 5 or 6 times on the battlefield to be actually killed. You can't even create a low level units after research. And there still ridiculous DLC milking, like Blood or cutted factions like longbeards, which is already in game  So.if you still want to buy this game- wait for a massive discount(like 75%). If you just want a game about this times- go get Barbarian Invasion instead.\n",
            "Actual Score: 1, Predicted Score: 0\n",
            "\n",
            "Review: Very aprehensive gave about saving the world, or something like that.\n",
            "Actual Score: 0, Predicted Score: 1\n",
            "\n",
            "Review: I've decided to completely rework my review for the current status of the game. The game I was telling everyone would be fantastic as it went on. The game I told my friends I'd rather play than DayZ. The game I bought myself, my brother, and two of my friends.  At first, everything was just fine. It was an Early Access game with little content, but good bones. The environments were often lovely to look at, even being a dirty, gray apocalypse. The engine it used certainly had potential, however it ran like garbage. To this day, with my 780ti, AMD 8350 and 16GB of RAM, the game stuggles to maintain above 30FPS in some areas. The game makes almost no effort to use the power available to it, even after an entire year of patches. The only graphic option available to make a difference is turning off shadows completely, which just makes the game look flat.  Combat has always been floaty. Melee, while having a bit of impact, is hard to determine. Will you hit the enemy in front of you, or your friend by accident? Who knows if you'll hit anything at all, despite being right in front of them. Guns are also hit or miss, literally. They also have little to know sound travel. A sniper rifle cannot be heard in the middle of a dense city only 3 streets away? Yeah, not likely. That thing would echo for blocks.  Despite the Early Access warning being completely removed from the Steam page, everything about this game is still completely buggy if not broken. Since day 1, don't use vehicles, or at the very least the motorcycles. They sort of just...slide across the environment and can barely climb over tiny obstacles, and if you try there's a 99% chance you'll just flip completely over and even die.  The Nether themselves, probably the most promising aspect of this game, aren't even well implemented. Don't get me wrong, their ideas and designs are fantastic, even terrifying, but all the promise is shattered when they see you through walls, you can't judge their range of sight or hearing at all, and 9 times out of 10 they will just instantly swarm and warp to you causing your death. I know the point was to make them terrifying and deadly, a real challenge, but there's a difference between challenge and just being completely unfair. I love a challenge, but I hate how this game offers it.  Then there's the other players. This is the most obvious case of a survival game turned into complete deathmatch I've ever seen, and it's partly the devs fault. They continued to add things that encouraged kill on sight rather than encouraged teamwork. How loot spawns, how XP works, and then...territory claiming? Really? Did we need the game itself to encourage that? In games like DayZ, claiming a piece of land was implied. If a player set themselves up there, it was up to them to protect it. They didn't need extra XP or in game cash as incentive.   If this game was still labeled as Early Access, I'd still be able to forgive most of this since it had an actual chance of being fixed, but now since I can't find any evidence that it's still being developed and there's no warning that it's still not finished, I can't help but feel now they're just trying to trick unknowing gamers out of their cash and run.\n",
            "Actual Score: 1, Predicted Score: 0\n",
            "\n",
            "Review: Decent Diablo clone. I haven’t played multiplayer yet, so my review is only from single player perspective. I must say, Torchlight I is better. I have three major problems with this sequel.   Difficulty curve is really broken. First two acts are easy; I can beat them with my mouse only. Suddenly in the middle of third act everything is harder. Well, so far so good. I started using keyboard, drinking health and mana potions. But here is the twist; this is the first hack and slash RPG, where my character simply doesn’t have money (in this particular case gold). I just can’t afford potions. It sucks; I was looting everything, picking every item and selling them. Selling price of common bad ♥♥♥ axe is about 43gold. One potion costs about 250gold. Just ridiculous. You can argue that my build sucks. Well maybe, however I was playing on normal and then the first Torchlight was easier (I can beat it on my first try without dying too much.).   Second drawback is no real penalty for dying. Your character can respawn, right where his corpse is, with full health. Neither fame, nor experiences are lost in this process. So, you are just losing gold. When you have none, you lose none. The hero is de facto immortal. I should be glad, because my poor hero can’t die. However it is shame, that nothing motivates you to stay alive in game…   Too much items. You are constantly finding better equipment. I like SOME stats comparing, but this was overwhelming.   No thumbs up this time. I still prefer Torchlight I. Average game; wait for some sale.\n",
            "Actual Score: 1, Predicted Score: 0\n",
            "\n",
            "Review: I would say this game is about 80% luck and 20% skill. I understand you can take steps to minamize your risks, but it doesn't matter what your strategy is if the dice decide to f**k you. Cannot recomend this game if you are into strategy games. If RNG based results are your thing then go for it.\n",
            "Actual Score: 1, Predicted Score: 0\n",
            "\n",
            "Review: Shadowrun: Hong Kong suffers from murky storytelling and horrendous pacing. I'll forgive a poorly told story, but that story better be injected with fun. The game's pacing is what brings it down a notch.   After an exciting start, the game gets bogged down by two hours of exposition. After that, you move on to missions, a few which are interesting, but a majority of which are dialogue driven affairs. That brings up another problem. In Dragonfall, you could get a long way with three intellect and four charisma. In Hong Kong, you either invest a great deal into personality stats or find yourself getting into a lot of easily avoidable, dumb fights.   Unlike Dragonfall, there are no 'big' missions. They're all tiny side missions that are, for the most part, light on combat and extremely heavy on the dialogue. If you're a combat oriented character, this makes for an experience where your celebrated shadowrunner looks like a simple thug.  After each mission, you're expected to return to base and talk. Some of these talks are fun. Some conversations seem to go on and on, with characters speaking in circles. The tedium is interrupted every so often by unnecessary meetings with your boss, where you find out that you're no closer to finiding the answers that your looking for. In Dragonfall, you took jobs to pay for a final mission. In Hong Kong, you take jobs to pass the time between the first and final act.   Money and karma are an issue. Cybernetics don't just require essence and money, they require investment into a new skill tree. Do you get more karma per mission to invest in said trees? No, you only get 8 per mission. You'll receive less cash per mission. Now you may get more missions than in previous titles, but more missions means more medpacks and grenades. I remember being able to restock before every mission in Dragonfall, and getting a big enough payment before and during the final act to deck myself out. And one of your biggest cash outs isn't given until the very end of the game where it's no longer necessary.   On the plus side, combat is less tedious than the previous titles. Your party members seem to hit a lot more often in this installment, and you get more milage out of their abilities. The enemies' stats on the highest difficulty aren't as minmaxed as they are in Dragonfall, and your companions are statted out to be pretty effective in combat. If these improvements carried over to the matrix portions of the game, Hong Kong would have had the best matrix sequences out of the three games. But now the matrix sections involve puzzles and frogger segments. Fights where you have one character running the matrix, and the rest of the party fighting off security, become a bogged down nightmare.   *SLIGHT SPOILERS AHEAD  The driving force of the narrative is the mystery of why your foster father wanted you to come to Hong Kong, and what happened to him. Your relationship to him is revealed through dialogue with your brother, which always break down into him complaining about your current predicaments, and him realizing that he has daddy issues. Your between-missions chats become tiresome after a while. You'll receive missions from two of your crew mates early on, and if you don't do them right away, you'll be locked out of conversations with them for the majority of the game. If you complete their missions towards the end, you better be prepared to slog through long, out of place talks that should have been delivered between missions thoughout the earlier portion of the game. You will not appreciate Racter's 'beat around the bush' style of speaking, right before you head off to start the final mission.  Where Dragonfall builds up to the final mission, Hong Kong brings it up abruptly, where you boss tells you 'Hey, you can do the final mission now, but you better finnish your last three jobs'. And the ending really feels tacked on and forced, as if it's supposed to follow the ending formulas of previous titles. *END OF SPOILERS  Steam says I've spent 66 hours playing this game. I spent 20 of those hours asleep, having dosed off between missions. I probably spent 3 hours loading between screens, 18 hours in the main menu, and 15 hours reading dialogue.\n",
            "Actual Score: 1, Predicted Score: 0\n",
            "\n",
            "Review: Not impressed. I don't like the gauging an extra $30 to get the other third of the roster. Can't believe there is no standard 2 out of 3 falls arcade mode. We gotta pay extra to get that too? No way to assign controllers to player 1 or 2. This sucks since I have an arcade cabinet and this game assigned my player 1 &amp; 2 controls backwards.  Real shame since the actual gameplay is quite good. I'd recommend waiting a year for a game of the year edition when all the missing components are added.\n",
            "Actual Score: 0, Predicted Score: 1\n",
            "\n",
            "Review: perfect soundtrack perfect story the game is just perfect and in the and very emotional\n",
            "Actual Score: 0, Predicted Score: 1\n",
            "\n",
            "Review: This game has not been gripping. Runs slowly and moves slowly. As far as the gameplay has been concerned it had too much time wasted with in game ratings vs. early playtime.\n",
            "Actual Score: 1, Predicted Score: 0\n",
            "\n"
          ]
        }
      ]
    }
  ],
  "metadata": {
    "colab": {
      "provenance": [],
      "gpuType": "T4"
    },
    "kernelspec": {
      "display_name": "Python 3",
      "name": "python3"
    },
    "language_info": {
      "name": "python"
    },
    "widgets": {
      "application/vnd.jupyter.widget-state+json": {
        "d1625b3a39cc4c5c933a16f6b7a265b7": {
          "model_module": "@jupyter-widgets/controls",
          "model_name": "HBoxModel",
          "model_module_version": "1.5.0",
          "state": {
            "_dom_classes": [],
            "_model_module": "@jupyter-widgets/controls",
            "_model_module_version": "1.5.0",
            "_model_name": "HBoxModel",
            "_view_count": null,
            "_view_module": "@jupyter-widgets/controls",
            "_view_module_version": "1.5.0",
            "_view_name": "HBoxView",
            "box_style": "",
            "children": [
              "IPY_MODEL_6ce89367ce394143889ab375f26838da",
              "IPY_MODEL_6fae1f8aca59498aac894fc85cbad539",
              "IPY_MODEL_a79706372c274d639e0db38406f18736"
            ],
            "layout": "IPY_MODEL_7b55f15fda5146efbe2273792cac0ddf"
          }
        },
        "6ce89367ce394143889ab375f26838da": {
          "model_module": "@jupyter-widgets/controls",
          "model_name": "HTMLModel",
          "model_module_version": "1.5.0",
          "state": {
            "_dom_classes": [],
            "_model_module": "@jupyter-widgets/controls",
            "_model_module_version": "1.5.0",
            "_model_name": "HTMLModel",
            "_view_count": null,
            "_view_module": "@jupyter-widgets/controls",
            "_view_module_version": "1.5.0",
            "_view_name": "HTMLView",
            "description": "",
            "description_tooltip": null,
            "layout": "IPY_MODEL_3b5c7aced96248b3a3cb66d11cc48988",
            "placeholder": "​",
            "style": "IPY_MODEL_2f5bf3c6e81840589b489fcc969f65f3",
            "value": "Batches: 100%"
          }
        },
        "6fae1f8aca59498aac894fc85cbad539": {
          "model_module": "@jupyter-widgets/controls",
          "model_name": "FloatProgressModel",
          "model_module_version": "1.5.0",
          "state": {
            "_dom_classes": [],
            "_model_module": "@jupyter-widgets/controls",
            "_model_module_version": "1.5.0",
            "_model_name": "FloatProgressModel",
            "_view_count": null,
            "_view_module": "@jupyter-widgets/controls",
            "_view_module_version": "1.5.0",
            "_view_name": "ProgressView",
            "bar_style": "success",
            "description": "",
            "description_tooltip": null,
            "layout": "IPY_MODEL_a59f1ff5d9bd49e08f194240bf466d15",
            "max": 625,
            "min": 0,
            "orientation": "horizontal",
            "style": "IPY_MODEL_b15cb871a0ee49259514918d40c95f2b",
            "value": 625
          }
        },
        "a79706372c274d639e0db38406f18736": {
          "model_module": "@jupyter-widgets/controls",
          "model_name": "HTMLModel",
          "model_module_version": "1.5.0",
          "state": {
            "_dom_classes": [],
            "_model_module": "@jupyter-widgets/controls",
            "_model_module_version": "1.5.0",
            "_model_name": "HTMLModel",
            "_view_count": null,
            "_view_module": "@jupyter-widgets/controls",
            "_view_module_version": "1.5.0",
            "_view_name": "HTMLView",
            "description": "",
            "description_tooltip": null,
            "layout": "IPY_MODEL_98cd501fae2d4532ba22979ddd46136e",
            "placeholder": "​",
            "style": "IPY_MODEL_5a809f912fd64fae9789e1232cea8f62",
            "value": " 625/625 [02:09&lt;00:00, 38.92it/s]"
          }
        },
        "7b55f15fda5146efbe2273792cac0ddf": {
          "model_module": "@jupyter-widgets/base",
          "model_name": "LayoutModel",
          "model_module_version": "1.2.0",
          "state": {
            "_model_module": "@jupyter-widgets/base",
            "_model_module_version": "1.2.0",
            "_model_name": "LayoutModel",
            "_view_count": null,
            "_view_module": "@jupyter-widgets/base",
            "_view_module_version": "1.2.0",
            "_view_name": "LayoutView",
            "align_content": null,
            "align_items": null,
            "align_self": null,
            "border": null,
            "bottom": null,
            "display": null,
            "flex": null,
            "flex_flow": null,
            "grid_area": null,
            "grid_auto_columns": null,
            "grid_auto_flow": null,
            "grid_auto_rows": null,
            "grid_column": null,
            "grid_gap": null,
            "grid_row": null,
            "grid_template_areas": null,
            "grid_template_columns": null,
            "grid_template_rows": null,
            "height": null,
            "justify_content": null,
            "justify_items": null,
            "left": null,
            "margin": null,
            "max_height": null,
            "max_width": null,
            "min_height": null,
            "min_width": null,
            "object_fit": null,
            "object_position": null,
            "order": null,
            "overflow": null,
            "overflow_x": null,
            "overflow_y": null,
            "padding": null,
            "right": null,
            "top": null,
            "visibility": null,
            "width": null
          }
        },
        "3b5c7aced96248b3a3cb66d11cc48988": {
          "model_module": "@jupyter-widgets/base",
          "model_name": "LayoutModel",
          "model_module_version": "1.2.0",
          "state": {
            "_model_module": "@jupyter-widgets/base",
            "_model_module_version": "1.2.0",
            "_model_name": "LayoutModel",
            "_view_count": null,
            "_view_module": "@jupyter-widgets/base",
            "_view_module_version": "1.2.0",
            "_view_name": "LayoutView",
            "align_content": null,
            "align_items": null,
            "align_self": null,
            "border": null,
            "bottom": null,
            "display": null,
            "flex": null,
            "flex_flow": null,
            "grid_area": null,
            "grid_auto_columns": null,
            "grid_auto_flow": null,
            "grid_auto_rows": null,
            "grid_column": null,
            "grid_gap": null,
            "grid_row": null,
            "grid_template_areas": null,
            "grid_template_columns": null,
            "grid_template_rows": null,
            "height": null,
            "justify_content": null,
            "justify_items": null,
            "left": null,
            "margin": null,
            "max_height": null,
            "max_width": null,
            "min_height": null,
            "min_width": null,
            "object_fit": null,
            "object_position": null,
            "order": null,
            "overflow": null,
            "overflow_x": null,
            "overflow_y": null,
            "padding": null,
            "right": null,
            "top": null,
            "visibility": null,
            "width": null
          }
        },
        "2f5bf3c6e81840589b489fcc969f65f3": {
          "model_module": "@jupyter-widgets/controls",
          "model_name": "DescriptionStyleModel",
          "model_module_version": "1.5.0",
          "state": {
            "_model_module": "@jupyter-widgets/controls",
            "_model_module_version": "1.5.0",
            "_model_name": "DescriptionStyleModel",
            "_view_count": null,
            "_view_module": "@jupyter-widgets/base",
            "_view_module_version": "1.2.0",
            "_view_name": "StyleView",
            "description_width": ""
          }
        },
        "a59f1ff5d9bd49e08f194240bf466d15": {
          "model_module": "@jupyter-widgets/base",
          "model_name": "LayoutModel",
          "model_module_version": "1.2.0",
          "state": {
            "_model_module": "@jupyter-widgets/base",
            "_model_module_version": "1.2.0",
            "_model_name": "LayoutModel",
            "_view_count": null,
            "_view_module": "@jupyter-widgets/base",
            "_view_module_version": "1.2.0",
            "_view_name": "LayoutView",
            "align_content": null,
            "align_items": null,
            "align_self": null,
            "border": null,
            "bottom": null,
            "display": null,
            "flex": null,
            "flex_flow": null,
            "grid_area": null,
            "grid_auto_columns": null,
            "grid_auto_flow": null,
            "grid_auto_rows": null,
            "grid_column": null,
            "grid_gap": null,
            "grid_row": null,
            "grid_template_areas": null,
            "grid_template_columns": null,
            "grid_template_rows": null,
            "height": null,
            "justify_content": null,
            "justify_items": null,
            "left": null,
            "margin": null,
            "max_height": null,
            "max_width": null,
            "min_height": null,
            "min_width": null,
            "object_fit": null,
            "object_position": null,
            "order": null,
            "overflow": null,
            "overflow_x": null,
            "overflow_y": null,
            "padding": null,
            "right": null,
            "top": null,
            "visibility": null,
            "width": null
          }
        },
        "b15cb871a0ee49259514918d40c95f2b": {
          "model_module": "@jupyter-widgets/controls",
          "model_name": "ProgressStyleModel",
          "model_module_version": "1.5.0",
          "state": {
            "_model_module": "@jupyter-widgets/controls",
            "_model_module_version": "1.5.0",
            "_model_name": "ProgressStyleModel",
            "_view_count": null,
            "_view_module": "@jupyter-widgets/base",
            "_view_module_version": "1.2.0",
            "_view_name": "StyleView",
            "bar_color": null,
            "description_width": ""
          }
        },
        "98cd501fae2d4532ba22979ddd46136e": {
          "model_module": "@jupyter-widgets/base",
          "model_name": "LayoutModel",
          "model_module_version": "1.2.0",
          "state": {
            "_model_module": "@jupyter-widgets/base",
            "_model_module_version": "1.2.0",
            "_model_name": "LayoutModel",
            "_view_count": null,
            "_view_module": "@jupyter-widgets/base",
            "_view_module_version": "1.2.0",
            "_view_name": "LayoutView",
            "align_content": null,
            "align_items": null,
            "align_self": null,
            "border": null,
            "bottom": null,
            "display": null,
            "flex": null,
            "flex_flow": null,
            "grid_area": null,
            "grid_auto_columns": null,
            "grid_auto_flow": null,
            "grid_auto_rows": null,
            "grid_column": null,
            "grid_gap": null,
            "grid_row": null,
            "grid_template_areas": null,
            "grid_template_columns": null,
            "grid_template_rows": null,
            "height": null,
            "justify_content": null,
            "justify_items": null,
            "left": null,
            "margin": null,
            "max_height": null,
            "max_width": null,
            "min_height": null,
            "min_width": null,
            "object_fit": null,
            "object_position": null,
            "order": null,
            "overflow": null,
            "overflow_x": null,
            "overflow_y": null,
            "padding": null,
            "right": null,
            "top": null,
            "visibility": null,
            "width": null
          }
        },
        "5a809f912fd64fae9789e1232cea8f62": {
          "model_module": "@jupyter-widgets/controls",
          "model_name": "DescriptionStyleModel",
          "model_module_version": "1.5.0",
          "state": {
            "_model_module": "@jupyter-widgets/controls",
            "_model_module_version": "1.5.0",
            "_model_name": "DescriptionStyleModel",
            "_view_count": null,
            "_view_module": "@jupyter-widgets/base",
            "_view_module_version": "1.2.0",
            "_view_name": "StyleView",
            "description_width": ""
          }
        }
      }
    },
    "accelerator": "GPU"
  },
  "nbformat": 4,
  "nbformat_minor": 0
}